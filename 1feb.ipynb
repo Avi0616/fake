{
 "cells": [
  {
   "cell_type": "code",
   "execution_count": 1,
   "id": "208e3c94-dc27-4247-a9dc-70b6b63cd009",
   "metadata": {},
   "outputs": [
    {
     "data": {
      "text/plain": [
       "dict"
      ]
     },
     "execution_count": 1,
     "metadata": {},
     "output_type": "execute_result"
    }
   ],
   "source": [
    "d={}\n",
    "type(d)"
   ]
  },
  {
   "cell_type": "code",
   "execution_count": 2,
   "id": "0ac30df2-6dc1-4944-8e8b-2e54ae4d3b5b",
   "metadata": {},
   "outputs": [
    {
     "data": {
      "text/plain": [
       "{'name': 'shubham', 'email': 'shubham@gmail.com', 'age': '19'}"
      ]
     },
     "execution_count": 2,
     "metadata": {},
     "output_type": "execute_result"
    }
   ],
   "source": [
    "d1={'name':\"shubham\",'email':\"shubham@gmail.com\",\"age\":\"19\"}\n",
    "d1"
   ]
  },
  {
   "cell_type": "code",
   "execution_count": 3,
   "id": "03b8af86-be3a-4de1-940c-cb935dc744a3",
   "metadata": {},
   "outputs": [
    {
     "data": {
      "text/plain": [
       "{24.45: 'shubham'}"
      ]
     },
     "execution_count": 3,
     "metadata": {},
     "output_type": "execute_result"
    }
   ],
   "source": [
    "d2={24.45:'shubham'}\n",
    "d2"
   ]
  },
  {
   "cell_type": "code",
   "execution_count": 6,
   "id": "7170c62f-6ea6-44a1-b0b3-7f46a15fcae3",
   "metadata": {},
   "outputs": [
    {
     "data": {
      "text/plain": [
       "{'#1233': 'hdu'}"
      ]
     },
     "execution_count": 6,
     "metadata": {},
     "output_type": "execute_result"
    }
   ],
   "source": [
    "d3={'#1233':\"hdu\"}\n",
    "d3"
   ]
  },
  {
   "cell_type": "code",
   "execution_count": 8,
   "id": "e6fa608f-1464-4cce-982b-aa9d7e8e5edd",
   "metadata": {},
   "outputs": [
    {
     "data": {
      "text/plain": [
       "{(3+7j): 345, True: 654}"
      ]
     },
     "execution_count": 8,
     "metadata": {},
     "output_type": "execute_result"
    }
   ],
   "source": [
    "d4={3+7j:345,True:654}\n",
    "d4"
   ]
  },
  {
   "cell_type": "code",
   "execution_count": 9,
   "id": "709260b6-381a-441f-ad4d-34879a63f877",
   "metadata": {},
   "outputs": [
    {
     "data": {
      "text/plain": [
       "'shubham@gmail.com'"
      ]
     },
     "execution_count": 9,
     "metadata": {},
     "output_type": "execute_result"
    }
   ],
   "source": [
    "d1['email']"
   ]
  },
  {
   "cell_type": "code",
   "execution_count": 10,
   "id": "483b0ab0-5601-4f27-ad3f-159b6dea7c0d",
   "metadata": {},
   "outputs": [
    {
     "data": {
      "text/plain": [
       "654"
      ]
     },
     "execution_count": 10,
     "metadata": {},
     "output_type": "execute_result"
    }
   ],
   "source": [
    "d4[1]"
   ]
  },
  {
   "cell_type": "code",
   "execution_count": null,
   "id": "08f8b419-f7f6-4b3e-9d1c-61b316c25d9b",
   "metadata": {},
   "outputs": [],
   "source": []
  }
 ],
 "metadata": {
  "kernelspec": {
   "display_name": "Python 3 (ipykernel)",
   "language": "python",
   "name": "python3"
  },
  "language_info": {
   "codemirror_mode": {
    "name": "ipython",
    "version": 3
   },
   "file_extension": ".py",
   "mimetype": "text/x-python",
   "name": "python",
   "nbconvert_exporter": "python",
   "pygments_lexer": "ipython3",
   "version": "3.10.8"
  }
 },
 "nbformat": 4,
 "nbformat_minor": 5
}
